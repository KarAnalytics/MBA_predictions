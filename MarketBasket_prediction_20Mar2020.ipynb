{
 "cells": [
  {
   "cell_type": "markdown",
   "metadata": {},
   "source": [
    "### Tasks: \n",
    "\n",
    "    1) Read the MBA file for 2015, pre-process it to generate word embedding\n",
    "\n",
    "    2) Baseline: Machine translation (autoencoder) method to predict products for a transaction based on most recent transaction by a consumer. Add user features into model as well.\n",
    "    \n",
    "    3) Evaluate predictive performance "
   ]
  },
  {
   "cell_type": "code",
   "execution_count": 41,
   "metadata": {
    "collapsed": true
   },
   "outputs": [],
   "source": [
    "import pandas as pd\n",
    "import numpy as np\n",
    "import os\n",
    "import gensim\n",
    "\n",
    "import matplotlib.pyplot as plt\n",
    "from sklearn.model_selection import train_test_split"
   ]
  },
  {
   "cell_type": "code",
   "execution_count": 18,
   "metadata": {},
   "outputs": [
    {
     "name": "stderr",
     "output_type": "stream",
     "text": [
      "/Users/karthiksrinivasan/DD/Python/anaconda3/lib/python3.6/site-packages/h5py/__init__.py:34: FutureWarning: Conversion of the second argument of issubdtype from `float` to `np.floating` is deprecated. In future, it will be treated as `np.float64 == np.dtype(float).type`.\n",
      "  from ._conv import register_converters as _register_converters\n",
      "Using TensorFlow backend.\n"
     ]
    }
   ],
   "source": [
    "\n",
    "\n",
    "from keras.preprocessing.text import Tokenizer\n",
    "from keras.preprocessing.sequence import pad_sequences\n",
    "from keras.utils.np_utils import to_categorical\n",
    "from sklearn.preprocessing import LabelEncoder\n",
    "from keras import models\n",
    "from keras import layers\n",
    "from keras import regularizers"
   ]
  },
  {
   "cell_type": "code",
   "execution_count": 4,
   "metadata": {},
   "outputs": [
    {
     "name": "stdout",
     "output_type": "stream",
     "text": [
      "(1000000, 51)\n"
     ]
    }
   ],
   "source": [
    "# print(os.getcwd())\n",
    "trans = pd.read_csv(\"../data/purchases_panel_prod_trips_2015_new.csv\", nrows=1000000)\n",
    "#trans = pd.read_csv(\"../data/purchases_panel_prod_trips_2015_new.csv\")\n",
    "print(trans.shape)"
   ]
  },
  {
   "cell_type": "code",
   "execution_count": 3,
   "metadata": {
    "collapsed": true
   },
   "outputs": [],
   "source": [
    "#trans_temp = pd.read_csv(\"../data/purchases_panel_prod_trips_2015_new.csv\", nrows=1000)\n",
    "#trans_temp.to_csv('Check_data_sample.csv')"
   ]
  },
  {
   "cell_type": "code",
   "execution_count": 4,
   "metadata": {},
   "outputs": [
    {
     "name": "stdout",
     "output_type": "stream",
     "text": [
      "   Age And Presence Of Children  DMA Cd       F1  Female Head Age  \\\n",
      "0                             9     510  3789730                9   \n",
      "1                             3     561   727313                5   \n",
      "2                             3     602  5255228                7   \n",
      "3                             9     504   170207                8   \n",
      "4                             9     641  3226111                8   \n",
      "\n",
      "   Fips County Cd  Fips State Cd  Household Code  Household Composition  \\\n",
      "0             169             39         9068070                      1   \n",
      "1             125             12         6993068                      2   \n",
      "2              89             18        30343387                      1   \n",
      "3              11             42         2059554                      1   \n",
      "4              29             48         8671061                      1   \n",
      "\n",
      "   Household Income  Household Size     ...      Store Zip3  Total Price Paid  \\\n",
      "0                16               2     ...           446.0              4.59   \n",
      "1                16               3     ...             NaN              1.00   \n",
      "2                27               4     ...           464.0             19.76   \n",
      "3                18               2     ...             NaN             10.80   \n",
      "4                27               2     ...           782.0             10.00   \n",
      "\n",
      "   Total Spent  Trip Code Uc (Data Trips Filtered 15.Csv)  Trip Code Uc  \\\n",
      "0        33.02                                 1064482139    1064482139   \n",
      "1        44.45                                 1063294005    1063294005   \n",
      "2        57.65                                 1062585638    1062585638   \n",
      "3        29.21                                 1060154612    1060154612   \n",
      "4        70.41                                 1056529302    1056529302   \n",
      "\n",
      "   Upc (Products.Tsv)          Upc                      Upc Descr  \\\n",
      "0          4741400150   4741400150  BABYBDY STRP ADJST SNP ON TOY   \n",
      "1         63287883018  63287883018               CDL BBY WP CS PH   \n",
      "2          4826700202   4826700202                EVNFLPS SFTY GT   \n",
      "3          4826700202   4826700202                EVNFLPS SFTY GT   \n",
      "4          4826700202   4826700202                EVNFLPS SFTY GT   \n",
      "\n",
      "   Upc Ver Uc (Products.Tsv)  Upc Ver Uc  \n",
      "0                          1           1  \n",
      "1                          1           1  \n",
      "2                          1           1  \n",
      "3                          1           1  \n",
      "4                          1           1  \n",
      "\n",
      "[5 rows x 51 columns]\n",
      "Index(['Age And Presence Of Children', 'DMA Cd', 'F1', 'Female Head Age',\n",
      "       'Fips County Cd', 'Fips State Cd', 'Household Code',\n",
      "       'Household Composition', 'Household Income', 'Household Size',\n",
      "       'Male Head Age', 'Marital Status', 'Number of Records', 'Panel Year',\n",
      "       'Panelist ZipCd', 'Race', 'Region Cd', 'Scantrack Market Identifier Cd',\n",
      "       'Type Of Residence', 'Brand Code Uc', 'Brand Descr', 'Coupon Value',\n",
      "       'Dataset Found Uc', 'Deal Flag Uc', 'Department Code',\n",
      "       'Department Descr', 'Method Of Payment Cd', 'Multi', 'Panel Month',\n",
      "       'Product Group Code', 'Product Group Descr', 'Product Module Code',\n",
      "       'Product Module Descr', 'Purchase Date', 'Quantity', 'Retailer Code',\n",
      "       'Size1 Amount', 'Size1 Change Flag Uc', 'Size1 Code Uc', 'Size1 Units',\n",
      "       'Store Code Uc', 'Store Zip3', 'Total Price Paid', 'Total Spent',\n",
      "       'Trip Code Uc (Data Trips Filtered 15.Csv)', 'Trip Code Uc',\n",
      "       'Upc (Products.Tsv)', 'Upc', 'Upc Descr', 'Upc Ver Uc (Products.Tsv)',\n",
      "       'Upc Ver Uc'],\n",
      "      dtype='object')\n"
     ]
    }
   ],
   "source": [
    "print(trans.head())\n",
    "print(trans.columns)"
   ]
  },
  {
   "cell_type": "code",
   "execution_count": 5,
   "metadata": {
    "collapsed": true
   },
   "outputs": [],
   "source": [
    "trans['rowno'] = range(trans.shape[0])\n",
    "trans['tripcode'] = trans['Trip Code Uc']"
   ]
  },
  {
   "cell_type": "code",
   "execution_count": 6,
   "metadata": {},
   "outputs": [
    {
     "name": "stdout",
     "output_type": "stream",
     "text": [
      "Scantrack Market Identifier Cd    76\n",
      "dtype: int64\n",
      "DMA Cd    203\n",
      "dtype: int64\n",
      "F1    517006\n",
      "dtype: int64\n",
      "Household Code    8484\n",
      "dtype: int64\n",
      "Trip Code Uc    517006\n",
      "dtype: int64\n",
      "517006\n",
      "1000000\n"
     ]
    }
   ],
   "source": [
    "print(trans[['Scantrack Market Identifier Cd']].nunique())\n",
    "print(trans[['DMA Cd']].nunique())\n",
    "print(trans[['F1']].nunique())\n",
    "print(trans[['Household Code']].nunique())\n",
    "print(trans[['Trip Code Uc']].nunique())\n",
    "print(trans.tripcode.nunique())\n",
    "print(trans['rowno'].nunique())\n",
    "# print(trans[['Trip Code Uc','Upc']].nunique())"
   ]
  },
  {
   "cell_type": "code",
   "execution_count": 6,
   "metadata": {
    "collapsed": true
   },
   "outputs": [],
   "source": [
    "trans[\"Upc\"] = trans[\"Upc\"].astype(str)\n",
    "trans_products = trans.groupby(\"tripcode\").apply(lambda trans: trans['Upc'].tolist())\n"
   ]
  },
  {
   "cell_type": "code",
   "execution_count": 8,
   "metadata": {},
   "outputs": [
    {
     "name": "stdout",
     "output_type": "stream",
     "text": [
      "(517006,)\n",
      "tripcode\n",
      "1055365928                             [30024053785]\n",
      "1055365934    [89445500031, 7724150070, 70708210032]\n",
      "1055365992                              [4173601028]\n",
      "1055365998                              [3400000480]\n",
      "1055366033      [3400008752, 3400008752, 4000015122]\n",
      "dtype: object\n"
     ]
    }
   ],
   "source": [
    "print(trans_products.shape)\n",
    "print(trans_products.head())"
   ]
  },
  {
   "cell_type": "code",
   "execution_count": 9,
   "metadata": {},
   "outputs": [
    {
     "name": "stdout",
     "output_type": "stream",
     "text": [
      "(517006,)\n",
      "Purchase Date  tripcode  \n",
      "1/1/2015       1055382666                                         [9955515593]\n",
      "               1055382862    [4133102702, 4133102702, 4133102702, 714290984...\n",
      "               1055388216                            [81106801000, 4127102505]\n",
      "               1055390694                                         [1300000112]\n",
      "               1055446013                                         [3620001401]\n",
      "dtype: object\n"
     ]
    }
   ],
   "source": [
    "trans_products2 = trans.groupby([\"Purchase Date\", \"tripcode\"]).apply(lambda trans: trans['Upc'].tolist())\n",
    "print(trans_products2.shape)\n",
    "print(trans_products2.head())"
   ]
  },
  {
   "cell_type": "code",
   "execution_count": 11,
   "metadata": {},
   "outputs": [
    {
     "name": "stdout",
     "output_type": "stream",
     "text": [
      "42\n"
     ]
    }
   ],
   "source": [
    "longest = np.max(trans_products.apply(len))\n",
    "print(longest)"
   ]
  },
  {
   "cell_type": "code",
   "execution_count": 13,
   "metadata": {
    "collapsed": true
   },
   "outputs": [],
   "source": [
    "trans_products = trans_products.values\n",
    "word2vec_mb = gensim.models.Word2Vec(trans_products, sg = 1, size=300, window=longest, min_count=10, workers=4)"
   ]
  },
  {
   "cell_type": "code",
   "execution_count": 14,
   "metadata": {},
   "outputs": [
    {
     "name": "stdout",
     "output_type": "stream",
     "text": [
      "(459689, 3)\n",
      "  Purchase Date  Household Code      List_UPCs\n",
      "0      1/1/2015         2002813   [5210000043]\n",
      "1      1/1/2015         2016928   [7754429780]\n",
      "2      1/1/2015         2021427  [78535720610]\n",
      "3      1/1/2015         2024288   [3400012116]\n",
      "4      1/1/2015         2029790   [7673712236]\n"
     ]
    }
   ],
   "source": [
    "# We group by date and Household number as an alternative\n",
    "\n",
    "# house_products = trans.groupby([\"Purchase Date\", \"Household Code\"], as_index=False).apply(lambda trans: trans['Upc'].tolist())\n",
    "house_products = pd.DataFrame(trans.groupby([\"Purchase Date\", \"Household Code\"]).apply(lambda trans: trans['Upc'].tolist()).reset_index(name = \"List_UPCs\"))\n",
    "print(house_products.shape)\n",
    "print(house_products.head())"
   ]
  },
  {
   "cell_type": "code",
   "execution_count": 15,
   "metadata": {},
   "outputs": [
    {
     "name": "stdout",
     "output_type": "stream",
     "text": [
      "       HouseholdCode PurchaseDate  \\\n",
      "20274        2001500    1/24/2015   \n",
      "24570        2001500    1/27/2015   \n",
      "32831        2001500     1/4/2015   \n",
      "47976        2001500   10/15/2015   \n",
      "53326        2001500   10/19/2015   \n",
      "\n",
      "                                                    UPCs  \n",
      "20274   [3890000513, 7222300011, 7248600220, 3620000550]  \n",
      "24570                                       [2220000491]  \n",
      "32831               [2200000665, 2200000665, 3500076221]  \n",
      "47976  [7017726772, 3291700013, 4100000287, 340000426...  \n",
      "53326                                       [3890000409]  \n"
     ]
    }
   ],
   "source": [
    "house_prd = house_products.copy()\n",
    "house_prd.columns = [\"PurchaseDate\", \"HouseholdCode\", \"UPCs\"]\n",
    "house_prd = house_prd[[\"HouseholdCode\", \"PurchaseDate\", \"UPCs\"]]\n",
    "house_prd = house_prd.sort_values(by=[\"HouseholdCode\", \"PurchaseDate\"])\n",
    "print(house_prd.head())"
   ]
  },
  {
   "cell_type": "code",
   "execution_count": 8,
   "metadata": {},
   "outputs": [
    {
     "name": "stdout",
     "output_type": "stream",
     "text": [
      "(309001, 3)\n",
      "   HouseholdCode PurchaseWeek  \\\n",
      "0        2001500   2014-12-22   \n",
      "1        2001500   2014-12-29   \n",
      "2        2001500   2015-01-19   \n",
      "3        2001500   2015-01-26   \n",
      "4        2001500   2015-02-02   \n",
      "\n",
      "                                           List_UPCs  \n",
      "0                                       [4300028591]  \n",
      "1               [2200000665, 2200000665, 3500076221]  \n",
      "2   [3890000513, 7222300011, 7248600220, 3620000550]  \n",
      "3                                       [2220000491]  \n",
      "4  [2200000668, 2200000665, 2200000665, 300653144...  \n"
     ]
    }
   ],
   "source": [
    "### We now aggregate the list into a weekly format per customer\n",
    "## Code reference: https://stackoverflow.com/questions/45281297/group-by-week-in-pandas\n",
    "\n",
    "trans['Date'] = pd.to_datetime(trans[\"Purchase Date\"]) - pd.to_timedelta(7, unit='d')\n",
    "house_prd_weekly = pd.DataFrame(trans.groupby([\"Household Code\", pd.Grouper(key='Date', freq='W-MON')]).apply(lambda trans: trans['Upc'].tolist()).reset_index(name = \"List_UPCs\"))\n",
    "\n",
    "house_prd_weekly.columns = [ \"HouseholdCode\", \"PurchaseWeek\", \"List_UPCs\"]\n",
    "house_prd_weekly = house_prd_weekly.sort_values(by=[\"HouseholdCode\", \"PurchaseWeek\"])\n",
    "\n",
    "print (house_prd_weekly.shape)\n",
    "print (house_prd_weekly.head())"
   ]
  },
  {
   "cell_type": "code",
   "execution_count": 39,
   "metadata": {},
   "outputs": [
    {
     "name": "stdout",
     "output_type": "stream",
     "text": [
      "   HouseholdCode PurchaseWeek  \\\n",
      "0        2001500   2014-12-22   \n",
      "1        2001500   2014-12-29   \n",
      "2        2001500   2015-01-19   \n",
      "3        2001500   2015-01-26   \n",
      "4        2001500   2015-02-02   \n",
      "\n",
      "                                           List_UPCs  \\\n",
      "0                                       [4300028591]   \n",
      "1               [2200000665, 2200000665, 3500076221]   \n",
      "2   [3890000513, 7222300011, 7248600220, 3620000550]   \n",
      "3                                       [2220000491]   \n",
      "4  [2200000668, 2200000665, 2200000665, 300653144...   \n",
      "\n",
      "                                          FutureUPCs  \n",
      "0               [2200000665, 2200000665, 3500076221]  \n",
      "1   [3890000513, 7222300011, 7248600220, 3620000550]  \n",
      "2                                       [2220000491]  \n",
      "3  [2200000668, 2200000665, 2200000665, 300653144...  \n",
      "4  [3890000619, 7231000105, 5100014297, 210000264...  \n",
      "        HouseholdCode PurchaseWeek  \\\n",
      "308996       31226812   2015-11-23   \n",
      "308997       31226812   2015-11-30   \n",
      "308998       31226812   2015-12-07   \n",
      "308999       31226812   2015-12-14   \n",
      "309000       31226812   2015-12-21   \n",
      "\n",
      "                                                List_UPCs  \\\n",
      "308996  [4000029480, 3400013991, 3400054402, 430002855...   \n",
      "308997                                       [3810003295]   \n",
      "308998   [3400047370, 1500000550, 3400012988, 3400011014]   \n",
      "308999  [1500004899, 1500004899, 30997869551, 31254711...   \n",
      "309000                                       [2733100036]   \n",
      "\n",
      "                                               FutureUPCs  \n",
      "308996                                       [3810003295]  \n",
      "308997   [3400047370, 1500000550, 3400012988, 3400011014]  \n",
      "308998  [1500004899, 1500004899, 30997869551, 31254711...  \n",
      "308999                                       [2733100036]  \n",
      "309000                                       [2733100036]  \n",
      "(309001, 4)\n"
     ]
    },
    {
     "name": "stderr",
     "output_type": "stream",
     "text": [
      "/Users/karthiksrinivasan/DD/Python/anaconda3/lib/python3.6/site-packages/pandas/core/indexing.py:179: SettingWithCopyWarning: \n",
      "A value is trying to be set on a copy of a slice from a DataFrame\n",
      "\n",
      "See the caveats in the documentation: http://pandas.pydata.org/pandas-docs/stable/indexing.html#indexing-view-versus-copy\n",
      "  self._setitem_with_indexer(indexer, value)\n"
     ]
    }
   ],
   "source": [
    "#temp = [house_prd_weekly.List_UPCs[1:(len(house_prd_weekly.List_UPCs))],house_prd_weekly.List_UPCs[(len(house_prd_weekly.List_UPCs))]\n",
    "#house_prd_weekly.FutureUPCs = temp\n",
    "house_prd_weekly[\"FutureUPCs\"] = house_prd_weekly.List_UPCs.shift(-1)\n",
    "house_prd_weekly[\"FutureUPCs\"].iloc[-1] = house_prd_weekly[\"List_UPCs\"].iloc[-1] \n",
    "\n",
    "#print(house_prd_weekly.FutureUPCs.head())\n",
    "#print(house_prd_weekly.FutureUPCs.tail())\n",
    "#print(\"Past\")\n",
    "#print(house_prd_weekly.List_UPCs.head())\n",
    "#print(house_prd_weekly.List_UPCs.tail())\n",
    "\n",
    "print(house_prd_weekly.head())\n",
    "print(house_prd_weekly.tail())\n",
    "print(house_prd_weekly.shape)"
   ]
  },
  {
   "cell_type": "code",
   "execution_count": 11,
   "metadata": {},
   "outputs": [
    {
     "name": "stdout",
     "output_type": "stream",
     "text": [
      "46\n"
     ]
    }
   ],
   "source": [
    "longest_weekly = np.max(house_prd_weekly.List_UPCs.apply(len))\n",
    "print(longest_weekly)"
   ]
  },
  {
   "cell_type": "code",
   "execution_count": 12,
   "metadata": {},
   "outputs": [],
   "source": [
    "trans_products_vocab = house_prd_weekly['List_UPCs']\n",
    "word2vec_mb_weekly = gensim.models.Word2Vec(trans_products_vocab, sg = 1, size=300, window=longest_weekly, min_count=10, workers=4)"
   ]
  },
  {
   "cell_type": "code",
   "execution_count": 13,
   "metadata": {
    "collapsed": true
   },
   "outputs": [],
   "source": [
    "word2vec_mb_weekly.wv.save_word2vec_format('../data/MB_weekly_corpus_1000k_obs.txt')\n",
    "# word2vec_mb_weekly.wv.save_word2vec_format('../data/MB_weekly_corpus_2015.txt')"
   ]
  },
  {
   "cell_type": "code",
   "execution_count": null,
   "metadata": {
    "collapsed": true
   },
   "outputs": [],
   "source": [
    "### Models for next week market basket prediction: \n",
    "## - Autoencoder: Feed the model one week's UPCs as embedding features (p = 300), and decode the next week's purchases\n",
    "## - Autoencoder + Take into consideration Household info \n",
    "## - Recurrent neural network with bag of words approach (Still formulating method)\n",
    "## - Graph embedding followed by graph-based prediction (Still formulating method)"
   ]
  },
  {
   "cell_type": "code",
   "execution_count": 44,
   "metadata": {},
   "outputs": [
    {
     "name": "stdout",
     "output_type": "stream",
     "text": [
      "(231750, 2)\n",
      "(77251, 2)\n"
     ]
    }
   ],
   "source": [
    "X_train, X_test, y_train, y_test = train_test_split(house_prd_weekly[[\"HouseholdCode\", \"List_UPCs\"]], house_prd_weekly['FutureUPCs'], test_size=0.25, random_state=1234)\n",
    "print(X_train.shape)\n",
    "print(X_test.shape)"
   ]
  },
  {
   "cell_type": "code",
   "execution_count": null,
   "metadata": {
    "collapsed": true
   },
   "outputs": [],
   "source": [
    "### Simple auto-encoder"
   ]
  }
 ],
 "metadata": {
  "kernelspec": {
   "display_name": "Python 3",
   "language": "python",
   "name": "python3"
  },
  "language_info": {
   "codemirror_mode": {
    "name": "ipython",
    "version": 3
   },
   "file_extension": ".py",
   "mimetype": "text/x-python",
   "name": "python",
   "nbconvert_exporter": "python",
   "pygments_lexer": "ipython3",
   "version": "3.6.3"
  }
 },
 "nbformat": 4,
 "nbformat_minor": 2
}
